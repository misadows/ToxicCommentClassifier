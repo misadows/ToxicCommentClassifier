{
  "nbformat": 4,
  "nbformat_minor": 0,
  "metadata": {
    "colab": {
      "name": "BERT GPU.ipynb",
      "version": "0.3.2",
      "provenance": []
    },
    "kernelspec": {
      "name": "python3",
      "display_name": "Python 3"
    },
    "accelerator": "GPU"
  },
  "cells": [
    {
      "cell_type": "code",
      "metadata": {
        "id": "F2uzrV4FVPfk",
        "colab_type": "code",
        "colab": {}
      },
      "source": [
        "import datetime\n",
        "import json\n",
        "import os\n",
        "import pprint\n",
        "import random\n",
        "import string\n",
        "import sys\n",
        "import tensorflow as tf"
      ],
      "execution_count": 0,
      "outputs": []
    },
    {
      "cell_type": "code",
      "metadata": {
        "id": "vQe6CVMfVdEP",
        "colab_type": "code",
        "outputId": "e91f001d-9318-46f7-c423-179df45b9f53",
        "colab": {
          "base_uri": "https://localhost:8080/",
          "height": 153
        }
      },
      "source": [
        "import sys\n",
        "\n",
        "!rm -rf toxic_comments\n",
        "!git clone https://github.com/misadows/ToxicCommentClassifier.git toxic_comments\n",
        "if not 'toxic_comments' in sys.path:\n",
        "  sys.path += ['toxic_comments']\n"
      ],
      "execution_count": 0,
      "outputs": [
        {
          "output_type": "stream",
          "text": [
            "Cloning into 'toxic_comments'...\n",
            "remote: Enumerating objects: 64, done.\u001b[K\n",
            "remote: Counting objects:   1% (1/64)   \u001b[K\rremote: Counting objects:   3% (2/64)   \u001b[K\rremote: Counting objects:   4% (3/64)   \u001b[K\rremote: Counting objects:   6% (4/64)   \u001b[K\rremote: Counting objects:   7% (5/64)   \u001b[K\rremote: Counting objects:   9% (6/64)   \u001b[K\rremote: Counting objects:  10% (7/64)   \u001b[K\rremote: Counting objects:  12% (8/64)   \u001b[K\rremote: Counting objects:  14% (9/64)   \u001b[K\rremote: Counting objects:  15% (10/64)   \u001b[K\rremote: Counting objects:  17% (11/64)   \u001b[K\rremote: Counting objects:  18% (12/64)   \u001b[K\rremote: Counting objects:  20% (13/64)   \u001b[K\rremote: Counting objects:  21% (14/64)   \u001b[K\rremote: Counting objects:  23% (15/64)   \u001b[K\rremote: Counting objects:  25% (16/64)   \u001b[K\rremote: Counting objects:  26% (17/64)   \u001b[K\rremote: Counting objects:  28% (18/64)   \u001b[K\rremote: Counting objects:  29% (19/64)   \u001b[K\rremote: Counting objects:  31% (20/64)   \u001b[K\rremote: Counting objects:  32% (21/64)   \u001b[K\rremote: Counting objects:  34% (22/64)   \u001b[K\rremote: Counting objects:  35% (23/64)   \u001b[K\rremote: Counting objects:  37% (24/64)   \u001b[K\rremote: Counting objects:  39% (25/64)   \u001b[K\rremote: Counting objects:  40% (26/64)   \u001b[K\rremote: Counting objects:  42% (27/64)   \u001b[K\rremote: Counting objects:  43% (28/64)   \u001b[K\rremote: Counting objects:  45% (29/64)   \u001b[K\rremote: Counting objects:  46% (30/64)   \u001b[K\rremote: Counting objects:  48% (31/64)   \u001b[K\rremote: Counting objects:  50% (32/64)   \u001b[K\rremote: Counting objects:  51% (33/64)   \u001b[K\rremote: Counting objects:  53% (34/64)   \u001b[K\rremote: Counting objects:  54% (35/64)   \u001b[K\rremote: Counting objects:  56% (36/64)   \u001b[K\rremote: Counting objects:  57% (37/64)   \u001b[K\rremote: Counting objects:  59% (38/64)   \u001b[K\rremote: Counting objects:  60% (39/64)   \u001b[K\rremote: Counting objects:  62% (40/64)   \u001b[K\rremote: Counting objects:  64% (41/64)   \u001b[K\rremote: Counting objects:  65% (42/64)   \u001b[K\rremote: Counting objects:  67% (43/64)   \u001b[K\rremote: Counting objects:  68% (44/64)   \u001b[K\rremote: Counting objects:  70% (45/64)   \u001b[K\rremote: Counting objects:  71% (46/64)   \u001b[K\rremote: Counting objects:  73% (47/64)   \u001b[K\rremote: Counting objects:  75% (48/64)   \u001b[K\rremote: Counting objects:  76% (49/64)   \u001b[K\rremote: Counting objects:  78% (50/64)   \u001b[K\rremote: Counting objects:  79% (51/64)   \u001b[K\rremote: Counting objects:  81% (52/64)   \u001b[K\rremote: Counting objects:  82% (53/64)   \u001b[K\rremote: Counting objects:  84% (54/64)   \u001b[K\rremote: Counting objects:  85% (55/64)   \u001b[K\rremote: Counting objects:  87% (56/64)   \u001b[K\rremote: Counting objects:  89% (57/64)   \u001b[K\rremote: Counting objects:  90% (58/64)   \u001b[K\rremote: Counting objects:  92% (59/64)   \u001b[K\rremote: Counting objects:  93% (60/64)   \u001b[K\rremote: Counting objects:  95% (61/64)   \u001b[K\rremote: Counting objects:  96% (62/64)   \u001b[K\rremote: Counting objects:  98% (63/64)   \u001b[K\rremote: Counting objects: 100% (64/64)   \u001b[K\rremote: Counting objects: 100% (64/64), done.\u001b[K\n",
            "remote: Compressing objects:   2% (1/47)   \u001b[K\rremote: Compressing objects:   4% (2/47)   \u001b[K\rremote: Compressing objects:   6% (3/47)   \u001b[K\rremote: Compressing objects:   8% (4/47)   \u001b[K\rremote: Compressing objects:  10% (5/47)   \u001b[K\rremote: Compressing objects:  12% (6/47)   \u001b[K\rremote: Compressing objects:  14% (7/47)   \u001b[K\rremote: Compressing objects:  17% (8/47)   \u001b[K\rremote: Compressing objects:  19% (9/47)   \u001b[K\rremote: Compressing objects:  21% (10/47)   \u001b[K\rremote: Compressing objects:  23% (11/47)   \u001b[K\rremote: Compressing objects:  25% (12/47)   \u001b[K\rremote: Compressing objects:  27% (13/47)   \u001b[K\rremote: Compressing objects:  29% (14/47)   \u001b[K\rremote: Compressing objects:  31% (15/47)   \u001b[K\rremote: Compressing objects:  34% (16/47)   \u001b[K\rremote: Compressing objects:  36% (17/47)   \u001b[K\rremote: Compressing objects:  38% (18/47)   \u001b[K\rremote: Compressing objects:  40% (19/47)   \u001b[K\rremote: Compressing objects:  42% (20/47)   \u001b[K\rremote: Compressing objects:  44% (21/47)   \u001b[K\rremote: Compressing objects:  46% (22/47)   \u001b[K\rremote: Compressing objects:  48% (23/47)   \u001b[K\rremote: Compressing objects:  51% (24/47)   \u001b[K\rremote: Compressing objects:  53% (25/47)   \u001b[K\rremote: Compressing objects:  55% (26/47)   \u001b[K\rremote: Compressing objects:  57% (27/47)   \u001b[K\rremote: Compressing objects:  59% (28/47)   \u001b[K\rremote: Compressing objects:  61% (29/47)   \u001b[K\rremote: Compressing objects:  63% (30/47)   \u001b[K\rremote: Compressing objects:  65% (31/47)   \u001b[K\rremote: Compressing objects:  68% (32/47)   \u001b[K\rremote: Compressing objects:  70% (33/47)   \u001b[K\rremote: Compressing objects:  72% (34/47)   \u001b[K\rremote: Compressing objects:  74% (35/47)   \u001b[K\rremote: Compressing objects:  76% (36/47)   \u001b[K\rremote: Compressing objects:  78% (37/47)   \u001b[K\rremote: Compressing objects:  80% (38/47)   \u001b[K\rremote: Compressing objects:  82% (39/47)   \u001b[K\rremote: Compressing objects:  85% (40/47)   \u001b[K\rremote: Compressing objects:  87% (41/47)   \u001b[K\rremote: Compressing objects:  89% (42/47)   \u001b[K\rremote: Compressing objects:  91% (43/47)   \u001b[K\rremote: Compressing objects:  93% (44/47)   \u001b[K\rremote: Compressing objects:  95% (45/47)   \u001b[K\rremote: Compressing objects:  97% (46/47)   \u001b[K\rremote: Compressing objects: 100% (47/47)   \u001b[K\rremote: Compressing objects: 100% (47/47), done.\u001b[K\n",
            "Unpacking objects:   1% (1/64)   \rUnpacking objects:   3% (2/64)   \rUnpacking objects:   4% (3/64)   \rUnpacking objects:   6% (4/64)   \rUnpacking objects:   7% (5/64)   \rUnpacking objects:   9% (6/64)   \rUnpacking objects:  10% (7/64)   \rUnpacking objects:  12% (8/64)   \rUnpacking objects:  14% (9/64)   \rUnpacking objects:  15% (10/64)   \rUnpacking objects:  17% (11/64)   \rUnpacking objects:  18% (12/64)   \rUnpacking objects:  20% (13/64)   \rUnpacking objects:  21% (14/64)   \rUnpacking objects:  23% (15/64)   \rUnpacking objects:  25% (16/64)   \rUnpacking objects:  26% (17/64)   \rUnpacking objects:  28% (18/64)   \rUnpacking objects:  29% (19/64)   \rUnpacking objects:  31% (20/64)   \rUnpacking objects:  32% (21/64)   \rUnpacking objects:  34% (22/64)   \rUnpacking objects:  35% (23/64)   \rUnpacking objects:  37% (24/64)   \rUnpacking objects:  39% (25/64)   \rUnpacking objects:  40% (26/64)   \rUnpacking objects:  42% (27/64)   \rremote: Total 64 (delta 22), reused 53 (delta 14), pack-reused 0\u001b[K\n",
            "Unpacking objects:  43% (28/64)   \rUnpacking objects:  45% (29/64)   \rUnpacking objects:  46% (30/64)   \rUnpacking objects:  48% (31/64)   \rUnpacking objects:  50% (32/64)   \rUnpacking objects:  51% (33/64)   \rUnpacking objects:  53% (34/64)   \rUnpacking objects:  54% (35/64)   \rUnpacking objects:  56% (36/64)   \rUnpacking objects:  57% (37/64)   \rUnpacking objects:  59% (38/64)   \rUnpacking objects:  60% (39/64)   \rUnpacking objects:  62% (40/64)   \rUnpacking objects:  64% (41/64)   \rUnpacking objects:  65% (42/64)   \rUnpacking objects:  67% (43/64)   \rUnpacking objects:  68% (44/64)   \rUnpacking objects:  70% (45/64)   \rUnpacking objects:  71% (46/64)   \rUnpacking objects:  73% (47/64)   \rUnpacking objects:  75% (48/64)   \rUnpacking objects:  76% (49/64)   \rUnpacking objects:  78% (50/64)   \rUnpacking objects:  79% (51/64)   \rUnpacking objects:  81% (52/64)   \rUnpacking objects:  82% (53/64)   \rUnpacking objects:  84% (54/64)   \rUnpacking objects:  85% (55/64)   \rUnpacking objects:  87% (56/64)   \rUnpacking objects:  89% (57/64)   \rUnpacking objects:  90% (58/64)   \rUnpacking objects:  92% (59/64)   \rUnpacking objects:  93% (60/64)   \rUnpacking objects:  95% (61/64)   \rUnpacking objects:  96% (62/64)   \rUnpacking objects:  98% (63/64)   \rUnpacking objects: 100% (64/64)   \rUnpacking objects: 100% (64/64), done.\n"
          ],
          "name": "stdout"
        },
        {
          "output_type": "stream",
          "text": [
            "WARNING: Logging before flag parsing goes to stderr.\n",
            "W0530 12:09:33.635008 140007010793344 __init__.py:56] Some hub symbols are not available because TensorFlow version is less than 1.14\n"
          ],
          "name": "stderr"
        }
      ]
    },
    {
      "cell_type": "code",
      "metadata": {
        "id": "oBD46tn-W8AD",
        "colab_type": "code",
        "outputId": "c4b70697-af53-4548-e423-53e18cc1f535",
        "colab": {
          "base_uri": "https://localhost:8080/",
          "height": 34
        }
      },
      "source": [
        "from google.colab import drive\n",
        "drive.mount('/content/drive')"
      ],
      "execution_count": 0,
      "outputs": [
        {
          "output_type": "stream",
          "text": [
            "Drive already mounted at /content/drive; to attempt to forcibly remount, call drive.mount(\"/content/drive\", force_remount=True).\n"
          ],
          "name": "stdout"
        }
      ]
    },
    {
      "cell_type": "code",
      "metadata": {
        "id": "5H4qOClxXGi6",
        "colab_type": "code",
        "colab": {}
      },
      "source": [
        "BASE_DIR = '/content/drive/My Drive/Toxic comments'\n",
        "OUTPUT_DIR = '/content/drive/My Drive/Toxic comments/output'"
      ],
      "execution_count": 0,
      "outputs": []
    },
    {
      "cell_type": "code",
      "metadata": {
        "id": "SNtYAPUfVyTv",
        "colab_type": "code",
        "outputId": "6707f878-71f9-4897-9470-9d9024edb4fa",
        "colab": {
          "base_uri": "https://localhost:8080/",
          "height": 275
        }
      },
      "source": [
        "from toxic_comments.classifier.manage import get_toxic_comments_estimator\n",
        "from toxic_comments.classifier.dataset import ToxicCommentsProcessor\n",
        "\n",
        "\n",
        "processor = ToxicCommentsProcessor()\n",
        "\n",
        "train_examples = processor.get_train_examples(BASE_DIR)\n",
        "estimator = get_toxic_comments_estimator(len(train_examples), OUTPUT_DIR)"
      ],
      "execution_count": 0,
      "outputs": [
        {
          "output_type": "stream",
          "text": [
            "INFO:tensorflow:Using config: {'_model_dir': '/content/drive/My Drive/Toxic comments/output', '_tf_random_seed': None, '_save_summary_steps': 100, '_save_checkpoints_steps': 1000, '_save_checkpoints_secs': None, '_session_config': allow_soft_placement: true\n",
            "graph_options {\n",
            "  rewrite_options {\n",
            "    meta_optimizer_iterations: ONE\n",
            "  }\n",
            "}\n",
            ", '_keep_checkpoint_max': 5, '_keep_checkpoint_every_n_hours': 10000, '_log_step_count_steps': 100, '_train_distribute': None, '_device_fn': None, '_protocol': None, '_eval_distribute': None, '_experimental_distribute': None, '_service': None, '_cluster_spec': <tensorflow.python.training.server_lib.ClusterSpec object at 0x7f557fdc92e8>, '_task_type': 'worker', '_task_id': 0, '_global_id_in_cluster': 0, '_master': '', '_evaluation_master': '', '_is_chief': True, '_num_ps_replicas': 0, '_num_worker_replicas': 1}\n"
          ],
          "name": "stdout"
        },
        {
          "output_type": "stream",
          "text": [
            "I0530 12:13:05.643944 140007010793344 estimator.py:201] Using config: {'_model_dir': '/content/drive/My Drive/Toxic comments/output', '_tf_random_seed': None, '_save_summary_steps': 100, '_save_checkpoints_steps': 1000, '_save_checkpoints_secs': None, '_session_config': allow_soft_placement: true\n",
            "graph_options {\n",
            "  rewrite_options {\n",
            "    meta_optimizer_iterations: ONE\n",
            "  }\n",
            "}\n",
            ", '_keep_checkpoint_max': 5, '_keep_checkpoint_every_n_hours': 10000, '_log_step_count_steps': 100, '_train_distribute': None, '_device_fn': None, '_protocol': None, '_eval_distribute': None, '_experimental_distribute': None, '_service': None, '_cluster_spec': <tensorflow.python.training.server_lib.ClusterSpec object at 0x7f557fdc92e8>, '_task_type': 'worker', '_task_id': 0, '_global_id_in_cluster': 0, '_master': '', '_evaluation_master': '', '_is_chief': True, '_num_ps_replicas': 0, '_num_worker_replicas': 1}\n"
          ],
          "name": "stderr"
        }
      ]
    },
    {
      "cell_type": "code",
      "metadata": {
        "id": "JD45__GAXQwF",
        "colab_type": "code",
        "outputId": "f02025dd-7de2-4704-8e92-7c9652bf748d",
        "colab": {
          "base_uri": "https://localhost:8080/",
          "height": 207
        }
      },
      "source": [
        "from toxic_comments.classifier.manage import model_train\n",
        "\n",
        "model_train(estimator, train_examples)\n"
      ],
      "execution_count": 0,
      "outputs": [
        {
          "output_type": "stream",
          "text": [
            "Creating tokenizer from tf hub\n",
            "WARNING:tensorflow:From /usr/local/lib/python3.6/dist-packages/tensorflow/python/ops/control_flow_ops.py:3632: colocate_with (from tensorflow.python.framework.ops) is deprecated and will be removed in a future version.\n",
            "Instructions for updating:\n",
            "Colocations handled automatically by placer.\n"
          ],
          "name": "stdout"
        },
        {
          "output_type": "stream",
          "text": [
            "W0530 12:13:38.652354 140007010793344 deprecation.py:323] From /usr/local/lib/python3.6/dist-packages/tensorflow/python/ops/control_flow_ops.py:3632: colocate_with (from tensorflow.python.framework.ops) is deprecated and will be removed in a future version.\n",
            "Instructions for updating:\n",
            "Colocations handled automatically by placer.\n"
          ],
          "name": "stderr"
        },
        {
          "output_type": "stream",
          "text": [
            "INFO:tensorflow:Saver not created because there are no variables in the graph to restore\n"
          ],
          "name": "stdout"
        },
        {
          "output_type": "stream",
          "text": [
            "I0530 12:13:41.161722 140007010793344 saver.py:1483] Saver not created because there are no variables in the graph to restore\n"
          ],
          "name": "stderr"
        },
        {
          "output_type": "stream",
          "text": [
            "Converting examples to features...\n"
          ],
          "name": "stdout"
        }
      ]
    },
    {
      "cell_type": "code",
      "metadata": {
        "id": "vsg13hXBqO9G",
        "colab_type": "code",
        "colab": {}
      },
      "source": [
        ""
      ],
      "execution_count": 0,
      "outputs": []
    }
  ]
}